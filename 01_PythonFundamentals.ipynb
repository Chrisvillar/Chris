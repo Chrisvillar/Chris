{
  "nbformat": 4,
  "nbformat_minor": 0,
  "metadata": {
    "colab": {
      "provenance": [],
      "collapsed_sections": [
        "ocHshP-ve0xJ",
        "yzmWj6gMfVkC",
        "Q8iVu_SqdXzR"
      ],
      "toc_visible": true,
      "include_colab_link": true
    },
    "kernelspec": {
      "name": "python3",
      "display_name": "Python 3"
    },
    "language_info": {
      "name": "python"
    }
  },
  "cells": [
    {
      "cell_type": "markdown",
      "metadata": {
        "id": "view-in-github",
        "colab_type": "text"
      },
      "source": [
        "<a href=\"https://colab.research.google.com/github/Chrisvillar/Chris/blob/main/01_PythonFundamentals.ipynb\" target=\"_parent\"><img src=\"https://colab.research.google.com/assets/colab-badge.svg\" alt=\"Open In Colab\"/></a>"
      ]
    },
    {
      "cell_type": "markdown",
      "source": [
        "# Fundamentos de Python"
      ],
      "metadata": {
        "id": "F84Lt8YTb17C"
      }
    },
    {
      "cell_type": "code",
      "source": [],
      "metadata": {
        "id": "aTNIZXqHYR2_"
      },
      "execution_count": null,
      "outputs": []
    },
    {
      "cell_type": "markdown",
      "source": [
        "## Mecanismos de Entrada y Salida"
      ],
      "metadata": {
        "id": "ocHshP-ve0xJ"
      }
    },
    {
      "cell_type": "code",
      "source": [
        "# Salida\n",
        "print(\"Hola Mundo\")"
      ],
      "metadata": {
        "colab": {
          "base_uri": "https://localhost:8080/"
        },
        "id": "_XvB8p5ge357",
        "outputId": "37509f26-fcf9-411e-ee97-e7c3e81b59aa"
      },
      "execution_count": null,
      "outputs": [
        {
          "output_type": "stream",
          "name": "stdout",
          "text": [
            "Hola Mundo\n"
          ]
        }
      ]
    },
    {
      "cell_type": "code",
      "source": [
        "# Entrada\n",
        "input(\"Ingrese su Nombre: \")"
      ],
      "metadata": {
        "colab": {
          "base_uri": "https://localhost:8080/",
          "height": 53
        },
        "id": "vmoBqOZ8e900",
        "outputId": "81fe9460-2dd4-46ac-85ad-6eacda7ff329"
      },
      "execution_count": null,
      "outputs": [
        {
          "name": "stdout",
          "output_type": "stream",
          "text": [
            "Ingrese su Nombre: Breyson\n"
          ]
        },
        {
          "output_type": "execute_result",
          "data": {
            "text/plain": [
              "'Breyson'"
            ],
            "application/vnd.google.colaboratory.intrinsic+json": {
              "type": "string"
            }
          },
          "metadata": {},
          "execution_count": 20
        }
      ]
    },
    {
      "cell_type": "markdown",
      "source": [],
      "metadata": {
        "id": "Zxzzumz2YRjv"
      }
    },
    {
      "cell_type": "markdown",
      "source": [
        "## Variables y Operadores"
      ],
      "metadata": {
        "id": "MdtxixuMb6X8"
      }
    },
    {
      "cell_type": "markdown",
      "source": [
        "### Asignación de variables"
      ],
      "metadata": {
        "id": "yzmWj6gMfVkC"
      }
    },
    {
      "cell_type": "code",
      "source": [
        "nombre=input(\"Ingrese su Nombre: \")\n",
        "print(\"Hola\",nombre)"
      ],
      "metadata": {
        "colab": {
          "base_uri": "https://localhost:8080/"
        },
        "id": "9af7C93kfFe1",
        "outputId": "ad71a31a-636b-4707-b30d-6f9ca3fd3573"
      },
      "execution_count": null,
      "outputs": [
        {
          "output_type": "stream",
          "name": "stdout",
          "text": [
            "Ingrese su Nombre: BREYSON\n",
            "Hola BREYSON\n"
          ]
        }
      ]
    },
    {
      "cell_type": "markdown",
      "source": [
        "### Booleans"
      ],
      "metadata": {
        "id": "Q8iVu_SqdXzR"
      }
    },
    {
      "cell_type": "code",
      "execution_count": null,
      "metadata": {
        "colab": {
          "base_uri": "https://localhost:8080/"
        },
        "id": "DpdXJnimbUa9",
        "outputId": "55d5f32a-684f-4e6b-8a91-3e2f00d5936a"
      },
      "outputs": [
        {
          "output_type": "execute_result",
          "data": {
            "text/plain": [
              "bool"
            ]
          },
          "metadata": {},
          "execution_count": 4
        }
      ],
      "source": [
        "# Booleans\n",
        "v1_bool=True\n",
        "v2_bool=False\n",
        "type(v1_bool)"
      ]
    },
    {
      "cell_type": "code",
      "source": [
        "# Operaciones Boleanos\n",
        "v1_bool and v2_bool"
      ],
      "metadata": {
        "colab": {
          "base_uri": "https://localhost:8080/"
        },
        "id": "PVGOIbJDcZu_",
        "outputId": "5fd130c1-a599-4931-f08d-94075d0fcc65"
      },
      "execution_count": null,
      "outputs": [
        {
          "output_type": "execute_result",
          "data": {
            "text/plain": [
              "False"
            ]
          },
          "metadata": {},
          "execution_count": 5
        }
      ]
    },
    {
      "cell_type": "code",
      "source": [
        "(not v1_bool) or v2_bool"
      ],
      "metadata": {
        "colab": {
          "base_uri": "https://localhost:8080/"
        },
        "id": "m9Q8ooNpcngB",
        "outputId": "ed00972f-2e51-439e-f9ba-046cdd53b4c3"
      },
      "execution_count": null,
      "outputs": [
        {
          "output_type": "execute_result",
          "data": {
            "text/plain": [
              "False"
            ]
          },
          "metadata": {},
          "execution_count": 6
        }
      ]
    },
    {
      "cell_type": "code",
      "source": [
        "v3_bool=(3>5) and (4<25)  # Resultado de una evaluación lógica\n",
        "v3_bool"
      ],
      "metadata": {
        "colab": {
          "base_uri": "https://localhost:8080/"
        },
        "id": "jOBucPyldD3x",
        "outputId": "fc1134db-a048-4842-af81-755a7b5cb826"
      },
      "execution_count": null,
      "outputs": [
        {
          "output_type": "execute_result",
          "data": {
            "text/plain": [
              "False"
            ]
          },
          "metadata": {},
          "execution_count": 8
        }
      ]
    },
    {
      "cell_type": "markdown",
      "source": [
        "### Numericas"
      ],
      "metadata": {
        "id": "4Vn5cGZZdipf"
      }
    },
    {
      "cell_type": "code",
      "source": [
        "x=12.4\n",
        "y=5\n",
        "type(x),type(y)"
      ],
      "metadata": {
        "colab": {
          "base_uri": "https://localhost:8080/"
        },
        "id": "WothWJRsdrYc",
        "outputId": "0e07948b-df66-421a-d4f2-0d717514102b"
      },
      "execution_count": null,
      "outputs": [
        {
          "output_type": "execute_result",
          "data": {
            "text/plain": [
              "(float, int)"
            ]
          },
          "metadata": {},
          "execution_count": 10
        }
      ]
    },
    {
      "cell_type": "code",
      "source": [
        "# Casteo\n",
        "x1=int(x) # Por tener un formato numerico podemos convertirlo a numero (int o float)\n",
        "x2=float(\"12.78\") # Es un String pero por tener formato numerico lo puedo convertir a numero(int o float)\n",
        "x1,x2"
      ],
      "metadata": {
        "colab": {
          "base_uri": "https://localhost:8080/"
        },
        "id": "XAIDLi7Kd5dB",
        "outputId": "a15eb6d2-0558-4775-be88-a9771a36a492"
      },
      "execution_count": null,
      "outputs": [
        {
          "output_type": "execute_result",
          "data": {
            "text/plain": [
              "(12, 12.78)"
            ]
          },
          "metadata": {},
          "execution_count": 14
        }
      ]
    },
    {
      "cell_type": "code",
      "source": [
        "x/y, x//y, int(x)%y"
      ],
      "metadata": {
        "colab": {
          "base_uri": "https://localhost:8080/"
        },
        "id": "TqakFDrNecz9",
        "outputId": "5003b996-ddef-4419-90b3-5869a9b9c4c2"
      },
      "execution_count": null,
      "outputs": [
        {
          "output_type": "execute_result",
          "data": {
            "text/plain": [
              "(2.48, 2.0, 2)"
            ]
          },
          "metadata": {},
          "execution_count": 18
        }
      ]
    },
    {
      "cell_type": "markdown",
      "source": [
        "**Aplicación**:\n",
        "Dado un entero con el siguiente formato de tiempo: hhmmss (182450), mostrar el siguiente mensaje : “Son las 18h:24min:50seg”"
      ],
      "metadata": {
        "id": "PtF5Ox3Uf0TU"
      }
    },
    {
      "cell_type": "code",
      "source": [
        "hhmmss=int(input(\"Ingrese la hora (hhmmss): \"))\n",
        "hh=hhmmss//10000\n",
        "ss=hhmmss%100\n",
        "mm=(hhmmss//100)%100\n",
        "print(\"Son las \",hh,\"h:\",mm,\"min:\",ss,\"seg\",sep=\"\")"
      ],
      "metadata": {
        "colab": {
          "base_uri": "https://localhost:8080/"
        },
        "id": "d1nXeyfefzqt",
        "outputId": "5adf7606-0ca8-4e2e-bae6-adeaa44d9b26"
      },
      "execution_count": null,
      "outputs": [
        {
          "output_type": "stream",
          "name": "stdout",
          "text": [
            "Ingrese la hora (hhmmss): 154216\n",
            "Son las 15h:42min:16seg\n"
          ]
        }
      ]
    },
    {
      "cell_type": "markdown",
      "source": [
        "### String"
      ],
      "metadata": {
        "id": "OPKvrywiiDJa"
      }
    },
    {
      "cell_type": "code",
      "source": [
        "s=\"('moneda','nuevosol')\"   # --->moneda_nuevosol\n",
        "s"
      ],
      "metadata": {
        "colab": {
          "base_uri": "https://localhost:8080/",
          "height": 35
        },
        "id": "xMxosip6iL8I",
        "outputId": "e897e586-f595-43a2-b1fc-d81cede3d668"
      },
      "execution_count": null,
      "outputs": [
        {
          "output_type": "execute_result",
          "data": {
            "text/plain": [
              "\"('moneda','nuevosol')\""
            ],
            "application/vnd.google.colaboratory.intrinsic+json": {
              "type": "string"
            }
          },
          "metadata": {},
          "execution_count": 30
        }
      ]
    },
    {
      "cell_type": "code",
      "source": [
        "s=s.replace(\"(\",\"\")\n",
        "s"
      ],
      "metadata": {
        "colab": {
          "base_uri": "https://localhost:8080/",
          "height": 35
        },
        "id": "otSQwuNZjMaa",
        "outputId": "4a65a78e-4146-4aa8-81af-68e656d09b5d"
      },
      "execution_count": null,
      "outputs": [
        {
          "output_type": "execute_result",
          "data": {
            "text/plain": [
              "\"'moneda','nuevosol')\""
            ],
            "application/vnd.google.colaboratory.intrinsic+json": {
              "type": "string"
            }
          },
          "metadata": {},
          "execution_count": 32
        }
      ]
    },
    {
      "cell_type": "code",
      "source": [
        "s=s.replace(\")\",\"\")\n",
        "s"
      ],
      "metadata": {
        "colab": {
          "base_uri": "https://localhost:8080/",
          "height": 35
        },
        "id": "h8iKvLzYjWwA",
        "outputId": "4fd941bc-09ef-4715-bbc1-0fad83122e77"
      },
      "execution_count": null,
      "outputs": [
        {
          "output_type": "execute_result",
          "data": {
            "text/plain": [
              "\"'moneda','nuevosol'\""
            ],
            "application/vnd.google.colaboratory.intrinsic+json": {
              "type": "string"
            }
          },
          "metadata": {},
          "execution_count": 33
        }
      ]
    },
    {
      "cell_type": "code",
      "source": [
        "s.replace(\"'\",\"\").replace(\",\",\"_\")"
      ],
      "metadata": {
        "colab": {
          "base_uri": "https://localhost:8080/",
          "height": 35
        },
        "id": "EnXCDYQCjfUW",
        "outputId": "c9d763f8-e09c-4671-a5f1-d45d5f2619e4"
      },
      "execution_count": null,
      "outputs": [
        {
          "output_type": "execute_result",
          "data": {
            "text/plain": [
              "'moneda_nuevosol'"
            ],
            "application/vnd.google.colaboratory.intrinsic+json": {
              "type": "string"
            }
          },
          "metadata": {},
          "execution_count": 34
        }
      ]
    },
    {
      "cell_type": "code",
      "source": [
        "# Concatenación\n",
        "s=\"Hellow\"\n",
        "print(s*6)\n",
        "print(s+\" \" + \"World\")"
      ],
      "metadata": {
        "colab": {
          "base_uri": "https://localhost:8080/"
        },
        "id": "Xem7VmPlj9Ke",
        "outputId": "02ed3b59-2174-470c-8d5d-751ba044863f"
      },
      "execution_count": null,
      "outputs": [
        {
          "output_type": "stream",
          "name": "stdout",
          "text": [
            "HellowHellowHellowHellowHellowHellow\n",
            "Hellow World\n"
          ]
        }
      ]
    },
    {
      "cell_type": "code",
      "source": [
        "x1=\"Jose\"\n",
        "x2=1253\n",
        "x3=\"Gerente\"\n",
        "print(f\"El personal {x1} tiene el puesto de {x3} y gana {x2}\")"
      ],
      "metadata": {
        "colab": {
          "base_uri": "https://localhost:8080/"
        },
        "id": "GYzTe_HmkMdt",
        "outputId": "94cbc604-6065-48ee-9e17-99ac534773d1"
      },
      "execution_count": null,
      "outputs": [
        {
          "output_type": "stream",
          "name": "stdout",
          "text": [
            "El personal Jose tiene el puesto de Gerente y gana 1253\n"
          ]
        }
      ]
    },
    {
      "cell_type": "markdown",
      "source": [
        "## Instrucciones de Control"
      ],
      "metadata": {
        "id": "k71rYemjlLY5"
      }
    },
    {
      "cell_type": "markdown",
      "source": [
        "### Condicionales"
      ],
      "metadata": {
        "id": "YyQ76QoDlLHA"
      }
    },
    {
      "cell_type": "code",
      "source": [
        "# Dado un nro aleatorio, indicar si es par o no\n",
        "import random\n",
        "n=random.randint(1,50)\n",
        "resultado=\"IMPAR\"\n",
        "if n%2==0:\n",
        "  resultado=\"PAR\"\n",
        "print(f\"En numero {n} es {resultado}\")"
      ],
      "metadata": {
        "colab": {
          "base_uri": "https://localhost:8080/"
        },
        "id": "ddeJ9cbyqWTd",
        "outputId": "8614096b-d128-49c3-c573-30513ce643a7"
      },
      "execution_count": null,
      "outputs": [
        {
          "output_type": "stream",
          "name": "stdout",
          "text": [
            "En numero 7 es IMPAR\n"
          ]
        }
      ]
    },
    {
      "cell_type": "code",
      "source": [
        "# Al lanzar un dado indicar si obtuvo el maximo puntaje o sigue jugando\n",
        "d=random.randint(1,6)\n",
        "if d==6:\n",
        "  mensaje=\"Máximo Puntaje ...!!!!\"\n",
        "else:\n",
        "  mensaje=\"Sigue intentando\"\n",
        "print(f\"resultado: {d} ({mensaje})\")"
      ],
      "metadata": {
        "colab": {
          "base_uri": "https://localhost:8080/"
        },
        "id": "dzvXzcVbrhQf",
        "outputId": "babec1da-cff5-4e3b-a737-aff333a5f077"
      },
      "execution_count": null,
      "outputs": [
        {
          "output_type": "stream",
          "name": "stdout",
          "text": [
            "resultado: 6 (Máximo Puntaje ...!!!!)\n"
          ]
        }
      ]
    },
    {
      "cell_type": "code",
      "source": [
        "x=4\n",
        "\"Es tres\" if x==3 else \"No es tres\""
      ],
      "metadata": {
        "colab": {
          "base_uri": "https://localhost:8080/",
          "height": 35
        },
        "id": "9dfhBt3WsYjR",
        "outputId": "c55789aa-81c5-4bd4-c69f-3aabb8dd081e"
      },
      "execution_count": null,
      "outputs": [
        {
          "output_type": "execute_result",
          "data": {
            "text/plain": [
              "'No es tres'"
            ],
            "application/vnd.google.colaboratory.intrinsic+json": {
              "type": "string"
            }
          },
          "metadata": {},
          "execution_count": 95
        }
      ]
    },
    {
      "cell_type": "markdown",
      "source": [
        "### Repetitivas"
      ],
      "metadata": {
        "id": "VUUpCbhas05J"
      }
    },
    {
      "cell_type": "code",
      "source": [
        "# For\n",
        "for i in range(1,11):\n",
        "  print(i)"
      ],
      "metadata": {
        "colab": {
          "base_uri": "https://localhost:8080/"
        },
        "id": "qMhIvqNys0LA",
        "outputId": "f0f288ac-b7ec-406a-fed8-4c20ce801e71"
      },
      "execution_count": null,
      "outputs": [
        {
          "output_type": "stream",
          "name": "stdout",
          "text": [
            "1\n",
            "2\n",
            "3\n",
            "4\n",
            "5\n",
            "6\n",
            "7\n",
            "8\n",
            "9\n",
            "10\n"
          ]
        }
      ]
    },
    {
      "cell_type": "code",
      "source": [
        "\"\"\"\n",
        "Para un número determinado de alumnos,\n",
        "indicar el promedio de sus notas (suma de notas/cantidad de alumnos)\n",
        "(se debe solicitar las notas de cada alumno)\n",
        "\"\"\"\n",
        "n=int(input(\"Ingrese el nro de alumnos: \"))\n",
        "s=0\n",
        "for i in range(1,n+1):\n",
        "  nota=int(input(f\"Ingrese la nota del alumno[{i}]: \"))\n",
        "  s=s+nota\n",
        "prom=s/n\n",
        "print(f\"El promedio de las {n} notas es {prom}\")"
      ],
      "metadata": {
        "colab": {
          "base_uri": "https://localhost:8080/"
        },
        "id": "urRmgxOttpTZ",
        "outputId": "958278a6-58fb-49f3-ac95-04a19e27c641"
      },
      "execution_count": null,
      "outputs": [
        {
          "output_type": "stream",
          "name": "stdout",
          "text": [
            "Ingrese el nro de alumnos: 5\n",
            "Ingrese la nota del alumno[1]: 15\n",
            "Ingrese la nota del alumno[2]: 12\n",
            "Ingrese la nota del alumno[3]: 13\n",
            "Ingrese la nota del alumno[4]: 11\n",
            "Ingrese la nota del alumno[5]: 14\n",
            "El promedio de las 5 notas es 13.0\n"
          ]
        }
      ]
    },
    {
      "cell_type": "code",
      "source": [
        "# While\n",
        "x=0\n",
        "while x<5:\n",
        "  print(x)\n",
        "  x=x+1   # Control del bucle"
      ],
      "metadata": {
        "colab": {
          "base_uri": "https://localhost:8080/"
        },
        "id": "PayZ4sIgujt7",
        "outputId": "cf1e8388-15bd-4420-84c5-99a4c0392394"
      },
      "execution_count": null,
      "outputs": [
        {
          "output_type": "stream",
          "name": "stdout",
          "text": [
            "0\n",
            "1\n",
            "2\n",
            "3\n",
            "4\n"
          ]
        }
      ]
    },
    {
      "cell_type": "code",
      "source": [
        "# Lanzar un dado, varias veces hasta obtener el maximo puntaje, mostrar cada lanzamiento\n",
        "d=0\n",
        "cont=0\n",
        "while d!=6:\n",
        "  d=random.randint(1,6)\n",
        "  cont=cont+1\n",
        "  print(f\"Lanzamiento[{cont}]: {d}\")"
      ],
      "metadata": {
        "colab": {
          "base_uri": "https://localhost:8080/"
        },
        "id": "onxpTFrAvBRn",
        "outputId": "55b697f5-45ee-4203-af8a-bc2fbea04a2f"
      },
      "execution_count": null,
      "outputs": [
        {
          "output_type": "stream",
          "name": "stdout",
          "text": [
            "Lanzamiento[1]: 1\n",
            "Lanzamiento[2]: 3\n",
            "Lanzamiento[3]: 4\n",
            "Lanzamiento[4]: 5\n",
            "Lanzamiento[5]: 5\n",
            "Lanzamiento[6]: 2\n",
            "Lanzamiento[7]: 3\n",
            "Lanzamiento[8]: 1\n",
            "Lanzamiento[9]: 1\n",
            "Lanzamiento[10]: 5\n",
            "Lanzamiento[11]: 1\n",
            "Lanzamiento[12]: 4\n",
            "Lanzamiento[13]: 1\n",
            "Lanzamiento[14]: 1\n",
            "Lanzamiento[15]: 1\n",
            "Lanzamiento[16]: 5\n",
            "Lanzamiento[17]: 6\n"
          ]
        }
      ]
    },
    {
      "cell_type": "markdown",
      "source": [
        "## Colecciones en Python"
      ],
      "metadata": {
        "id": "mwG6Eazcw7G9"
      }
    },
    {
      "cell_type": "markdown",
      "source": [
        "### Listas"
      ],
      "metadata": {
        "id": "e49yC5SjxAfG"
      }
    },
    {
      "cell_type": "code",
      "source": [
        "notas=[12,14,11,17,20,14,11]\n",
        "notas"
      ],
      "metadata": {
        "colab": {
          "base_uri": "https://localhost:8080/"
        },
        "id": "aUIvMQwnw_3N",
        "outputId": "20df15d7-c9ee-4df1-f950-b386377666f2"
      },
      "execution_count": null,
      "outputs": [
        {
          "output_type": "execute_result",
          "data": {
            "text/plain": [
              "[12, 14, 11, 17, 20, 14, 11]"
            ]
          },
          "metadata": {},
          "execution_count": 116
        }
      ]
    },
    {
      "cell_type": "code",
      "source": [
        "notas[0] # El primero"
      ],
      "metadata": {
        "colab": {
          "base_uri": "https://localhost:8080/"
        },
        "id": "GMwoD_cbxiz3",
        "outputId": "cd12ce12-ad34-40cc-b4c7-3a3a6a5bf5d3"
      },
      "execution_count": null,
      "outputs": [
        {
          "output_type": "execute_result",
          "data": {
            "text/plain": [
              "12"
            ]
          },
          "metadata": {},
          "execution_count": 117
        }
      ]
    },
    {
      "cell_type": "code",
      "source": [
        "notas[-1] # El ultimo"
      ],
      "metadata": {
        "colab": {
          "base_uri": "https://localhost:8080/"
        },
        "id": "LB-swDUJxoS_",
        "outputId": "6ebf87d2-9b85-48b3-b751-edcc8368e7b7"
      },
      "execution_count": null,
      "outputs": [
        {
          "output_type": "execute_result",
          "data": {
            "text/plain": [
              "11"
            ]
          },
          "metadata": {},
          "execution_count": 118
        }
      ]
    },
    {
      "cell_type": "code",
      "source": [
        "# Slicing\n",
        "notas[:4]  # Todo lo anterior al indice 4"
      ],
      "metadata": {
        "colab": {
          "base_uri": "https://localhost:8080/"
        },
        "id": "e7eVk9kgx5T2",
        "outputId": "4e743fb8-bfe9-4767-c9bd-8dca95192e32"
      },
      "execution_count": null,
      "outputs": [
        {
          "output_type": "execute_result",
          "data": {
            "text/plain": [
              "[12, 14, 11, 17]"
            ]
          },
          "metadata": {},
          "execution_count": 119
        }
      ]
    },
    {
      "cell_type": "code",
      "source": [
        "notas[3:] # del indice 3 en adelante"
      ],
      "metadata": {
        "colab": {
          "base_uri": "https://localhost:8080/"
        },
        "id": "0yN0e21byKV_",
        "outputId": "0a67201d-2e41-4961-80c6-7e734915f227"
      },
      "execution_count": null,
      "outputs": [
        {
          "output_type": "execute_result",
          "data": {
            "text/plain": [
              "[17, 20, 14, 11]"
            ]
          },
          "metadata": {},
          "execution_count": 120
        }
      ]
    },
    {
      "cell_type": "code",
      "source": [
        "notas[2:4] # del indice 2 hasta antes del 4"
      ],
      "metadata": {
        "colab": {
          "base_uri": "https://localhost:8080/"
        },
        "id": "ayZx7-NfyXOg",
        "outputId": "6368eaf1-8906-4d2b-85a2-a0a289ab2e7b"
      },
      "execution_count": null,
      "outputs": [
        {
          "output_type": "execute_result",
          "data": {
            "text/plain": [
              "[11, 17]"
            ]
          },
          "metadata": {},
          "execution_count": 121
        }
      ]
    },
    {
      "cell_type": "code",
      "source": [
        "# Reemplzar valores\n",
        "print(notas)\n",
        "notas[2]=19  # al Elemento de indice 2, asignale 19\n",
        "print(notas)"
      ],
      "metadata": {
        "colab": {
          "base_uri": "https://localhost:8080/"
        },
        "id": "uTOtaN_1zHix",
        "outputId": "2be0bb89-2093-407e-8ba3-12279911b2f5"
      },
      "execution_count": null,
      "outputs": [
        {
          "output_type": "stream",
          "name": "stdout",
          "text": [
            "[12, 14, 11, 17, 20, 14, 11]\n",
            "[12, 14, 19, 17, 20, 14, 11]\n"
          ]
        }
      ]
    },
    {
      "cell_type": "code",
      "source": [
        "# Funciones Genericas\n",
        "print(\"'len' tamaño de la lista \",len(notas))"
      ],
      "metadata": {
        "colab": {
          "base_uri": "https://localhost:8080/"
        },
        "id": "rwWCXkMZyhUC",
        "outputId": "be64bcc4-bcdc-44a6-f44d-54541e47a1cf"
      },
      "execution_count": null,
      "outputs": [
        {
          "output_type": "stream",
          "name": "stdout",
          "text": [
            "'len' tamaño de la lista  7\n"
          ]
        }
      ]
    },
    {
      "cell_type": "code",
      "source": [
        "# Metodos mas usados\n",
        "notas.append(\"A\")\n",
        "notas"
      ],
      "metadata": {
        "colab": {
          "base_uri": "https://localhost:8080/"
        },
        "id": "jULe5JJXzEF8",
        "outputId": "13e99b25-8016-4b74-f964-077d3ee38c3b"
      },
      "execution_count": null,
      "outputs": [
        {
          "output_type": "execute_result",
          "data": {
            "text/plain": [
              "[12, 14, 19, 17, 20, 14, 11, 'A']"
            ]
          },
          "metadata": {},
          "execution_count": 130
        }
      ]
    },
    {
      "cell_type": "code",
      "source": [
        "notas.insert(3,\"B\")\n",
        "notas"
      ],
      "metadata": {
        "colab": {
          "base_uri": "https://localhost:8080/"
        },
        "id": "rPAQMzZmzlZ_",
        "outputId": "aac88ffb-d509-44a3-ea47-ada406dc2814"
      },
      "execution_count": null,
      "outputs": [
        {
          "output_type": "execute_result",
          "data": {
            "text/plain": [
              "[12, 14, 19, 'B', 17, 20, 14, 11, 'A']"
            ]
          },
          "metadata": {},
          "execution_count": 131
        }
      ]
    },
    {
      "cell_type": "code",
      "source": [
        "notas.remove(14)\n",
        "notas"
      ],
      "metadata": {
        "colab": {
          "base_uri": "https://localhost:8080/"
        },
        "id": "bouQO6BTzujj",
        "outputId": "fe11cb2a-cf0d-41e1-c417-33d420a08251"
      },
      "execution_count": null,
      "outputs": [
        {
          "output_type": "execute_result",
          "data": {
            "text/plain": [
              "[12, 19, 'B', 17, 20, 14, 11, 'A']"
            ]
          },
          "metadata": {},
          "execution_count": 132
        }
      ]
    },
    {
      "cell_type": "code",
      "source": [
        "notas.pop(3)"
      ],
      "metadata": {
        "colab": {
          "base_uri": "https://localhost:8080/"
        },
        "id": "7427PV5Az3AR",
        "outputId": "a989b6cf-6260-4f93-8f87-ade1f8acc9a6"
      },
      "execution_count": null,
      "outputs": [
        {
          "output_type": "execute_result",
          "data": {
            "text/plain": [
              "17"
            ]
          },
          "metadata": {},
          "execution_count": 133
        }
      ]
    },
    {
      "cell_type": "code",
      "source": [
        "x=[1,4,2,3,8,2]\n",
        "print(x)\n",
        "x.sort()\n",
        "print(x)"
      ],
      "metadata": {
        "colab": {
          "base_uri": "https://localhost:8080/"
        },
        "id": "arcg7oCp0Cny",
        "outputId": "c23f5421-5807-4066-f6b6-ac462d5ba33c"
      },
      "execution_count": null,
      "outputs": [
        {
          "output_type": "stream",
          "name": "stdout",
          "text": [
            "[1, 4, 2, 3, 8, 2]\n",
            "[1, 2, 2, 3, 4, 8]\n"
          ]
        }
      ]
    },
    {
      "cell_type": "code",
      "source": [
        "notas.index(19) # Dado un valor puedo obtener el indice"
      ],
      "metadata": {
        "colab": {
          "base_uri": "https://localhost:8080/"
        },
        "id": "WSdl_XaS00LR",
        "outputId": "8aa92546-6daf-4c89-a8eb-493105d1870d"
      },
      "execution_count": null,
      "outputs": [
        {
          "output_type": "execute_result",
          "data": {
            "text/plain": [
              "1"
            ]
          },
          "metadata": {},
          "execution_count": 143
        }
      ]
    },
    {
      "cell_type": "markdown",
      "source": [
        "Al lanzar dos dados, un numero determinado de veces, indicar el resultado mas frecuente"
      ],
      "metadata": {
        "id": "TFrYKoyL1Ftz"
      }
    },
    {
      "cell_type": "code",
      "source": [
        "[0]*14"
      ],
      "metadata": {
        "colab": {
          "base_uri": "https://localhost:8080/"
        },
        "id": "atvs_vRB2ulE",
        "outputId": "530932fa-39da-4fb9-870e-81c3bd62edce"
      },
      "execution_count": null,
      "outputs": [
        {
          "output_type": "execute_result",
          "data": {
            "text/plain": [
              "[0, 0, 0, 0, 0, 0, 0, 0, 0, 0, 0, 0, 0, 0]"
            ]
          },
          "metadata": {},
          "execution_count": 150
        }
      ]
    },
    {
      "cell_type": "code",
      "source": [
        "n=int(input(\"Ingrese el nro de lanzamientos: \"))\n",
        "listaResultados=[0]*14\n",
        "for i in range(1, n+1):\n",
        "  d1=random.randint(1,6)\n",
        "  d2=random.randint(1,6)\n",
        "  result=d1+d2\n",
        "  listaResultados[result]=listaResultados[result]+1\n",
        "print(listaResultados)\n",
        "print(max(listaResultados))\n",
        "rf=listaResultados.index(max(listaResultados))\n",
        "print(rf)"
      ],
      "metadata": {
        "colab": {
          "base_uri": "https://localhost:8080/"
        },
        "id": "xjZN4RkI1Ro8",
        "outputId": "d1817e2c-8a4e-4e89-9a91-e3a88d3a3f1d"
      },
      "execution_count": null,
      "outputs": [
        {
          "output_type": "stream",
          "name": "stdout",
          "text": [
            "Ingrese el nro de lanzamientos: 200\n",
            "[0, 0, 3, 12, 23, 25, 21, 39, 25, 19, 13, 9, 11, 0]\n",
            "39\n",
            "7\n"
          ]
        }
      ]
    },
    {
      "cell_type": "code",
      "source": [
        "# Compresion de listas\n",
        "lista_c=list()\n",
        "for c in \"Hola amigos\":\n",
        "  lista_c.append(c)\n",
        "lista_c"
      ],
      "metadata": {
        "colab": {
          "base_uri": "https://localhost:8080/"
        },
        "id": "Zewzp1jr4oMI",
        "outputId": "a2df253b-2a9e-4617-9b41-955821c458a8"
      },
      "execution_count": null,
      "outputs": [
        {
          "output_type": "execute_result",
          "data": {
            "text/plain": [
              "['H', 'o', 'l', 'a', ' ', 'a', 'm', 'i', 'g', 'o', 's']"
            ]
          },
          "metadata": {},
          "execution_count": 155
        }
      ]
    },
    {
      "cell_type": "code",
      "source": [
        "lista_d=[c for c in \"Hola amigos\"]\n",
        "lista_d"
      ],
      "metadata": {
        "colab": {
          "base_uri": "https://localhost:8080/"
        },
        "id": "7gkuIQ2_4xUR",
        "outputId": "bb411222-15fe-47d4-c245-a2d4c7689e7c"
      },
      "execution_count": null,
      "outputs": [
        {
          "output_type": "execute_result",
          "data": {
            "text/plain": [
              "['H', 'o', 'l', 'a', ' ', 'a', 'm', 'i', 'g', 'o', 's']"
            ]
          },
          "metadata": {},
          "execution_count": 156
        }
      ]
    },
    {
      "cell_type": "code",
      "source": [
        "# Añadir los números del 0 al 10 cuando su módulo de 2 sea 0\n",
        "[numero for numero in range(0,11) if numero % 2 == 0 ]"
      ],
      "metadata": {
        "colab": {
          "base_uri": "https://localhost:8080/"
        },
        "id": "bzcnl4Tp5PSu",
        "outputId": "c8758cc8-5990-4b51-d13a-829977869e51"
      },
      "execution_count": null,
      "outputs": [
        {
          "output_type": "execute_result",
          "data": {
            "text/plain": [
              "[0, 2, 4, 6, 8, 10]"
            ]
          },
          "metadata": {},
          "execution_count": 159
        }
      ]
    },
    {
      "cell_type": "markdown",
      "source": [
        "### Conjuntos"
      ],
      "metadata": {
        "id": "uziTYzJt6B-Y"
      }
    },
    {
      "cell_type": "code",
      "source": [
        "x=set() # Conjunto vacio\n",
        "len(x)"
      ],
      "metadata": {
        "colab": {
          "base_uri": "https://localhost:8080/"
        },
        "id": "7pXN4k_V6FAi",
        "outputId": "c07fa3bd-1eba-4e0d-b057-7ab6c4799625"
      },
      "execution_count": null,
      "outputs": [
        {
          "output_type": "execute_result",
          "data": {
            "text/plain": [
              "0"
            ]
          },
          "metadata": {},
          "execution_count": 162
        }
      ]
    },
    {
      "cell_type": "code",
      "source": [
        "toolkit_datascientist={\"Python\",\"R\",\"PySpark\",\"SQL\",\"PowerBI\",\"R\",\"R\"}\n",
        "toolkit_datapoweruser={\"SQL\",\"PowerBI\"}"
      ],
      "metadata": {
        "id": "HY4tUqry6Mdf"
      },
      "execution_count": null,
      "outputs": []
    },
    {
      "cell_type": "code",
      "source": [
        "toolkit_datascientist # No duplicados"
      ],
      "metadata": {
        "colab": {
          "base_uri": "https://localhost:8080/"
        },
        "id": "uuwTiW636Xk8",
        "outputId": "602cb309-6443-4546-9242-4c6be5858b02"
      },
      "execution_count": null,
      "outputs": [
        {
          "output_type": "execute_result",
          "data": {
            "text/plain": [
              "{'PowerBI', 'PySpark', 'Python', 'R', 'SQL'}"
            ]
          },
          "metadata": {},
          "execution_count": 165
        }
      ]
    },
    {
      "cell_type": "code",
      "source": [
        "list(toolkit_datascientist)[0] # Podemos indexarlo casteandolo como lista"
      ],
      "metadata": {
        "colab": {
          "base_uri": "https://localhost:8080/",
          "height": 35
        },
        "id": "t-8ugYNr6cu5",
        "outputId": "9b59dc8f-8d6b-4708-8d5d-025f3b933152"
      },
      "execution_count": null,
      "outputs": [
        {
          "output_type": "execute_result",
          "data": {
            "text/plain": [
              "'SQL'"
            ],
            "application/vnd.google.colaboratory.intrinsic+json": {
              "type": "string"
            }
          },
          "metadata": {},
          "execution_count": 167
        }
      ]
    },
    {
      "cell_type": "code",
      "source": [
        "# Agregar\n",
        "toolkit_datapoweruser.add(\"Excel\")\n",
        "toolkit_datapoweruser"
      ],
      "metadata": {
        "colab": {
          "base_uri": "https://localhost:8080/"
        },
        "id": "As1cEfOD6pLH",
        "outputId": "06757692-ab12-41d2-c632-53cea6e09596"
      },
      "execution_count": null,
      "outputs": [
        {
          "output_type": "execute_result",
          "data": {
            "text/plain": [
              "{'Excel', 'PowerBI', 'SQL'}"
            ]
          },
          "metadata": {},
          "execution_count": 168
        }
      ]
    },
    {
      "cell_type": "code",
      "source": [
        "# Interseccion\n",
        "toolkit_datascientist.intersection(toolkit_datapoweruser)"
      ],
      "metadata": {
        "colab": {
          "base_uri": "https://localhost:8080/"
        },
        "id": "0k8NQqNK6zWX",
        "outputId": "2cd25eb2-fbde-4ac8-ae3c-1e82d404c381"
      },
      "execution_count": null,
      "outputs": [
        {
          "output_type": "execute_result",
          "data": {
            "text/plain": [
              "{'PowerBI', 'SQL'}"
            ]
          },
          "metadata": {},
          "execution_count": 169
        }
      ]
    },
    {
      "cell_type": "code",
      "source": [
        "# Diferencias\n",
        "toolkit_datascientist.difference(toolkit_datapoweruser)"
      ],
      "metadata": {
        "colab": {
          "base_uri": "https://localhost:8080/"
        },
        "id": "zXTsxLYx65sT",
        "outputId": "c69e46d3-10b6-44ba-db9d-9a4b59251857"
      },
      "execution_count": null,
      "outputs": [
        {
          "output_type": "execute_result",
          "data": {
            "text/plain": [
              "{'PySpark', 'Python', 'R'}"
            ]
          },
          "metadata": {},
          "execution_count": 170
        }
      ]
    },
    {
      "cell_type": "code",
      "source": [
        "# Union\n",
        "toolkit_datascientist.union(toolkit_datapoweruser)"
      ],
      "metadata": {
        "colab": {
          "base_uri": "https://localhost:8080/"
        },
        "id": "dRPsxKs36_C5",
        "outputId": "614a8983-6e88-4425-db06-d03d6b4aefdf"
      },
      "execution_count": null,
      "outputs": [
        {
          "output_type": "execute_result",
          "data": {
            "text/plain": [
              "{'Excel', 'PowerBI', 'PySpark', 'Python', 'R', 'SQL'}"
            ]
          },
          "metadata": {},
          "execution_count": 171
        }
      ]
    },
    {
      "cell_type": "markdown",
      "source": [
        "### Tuplas"
      ],
      "metadata": {
        "id": "UBJWq9-KtY00"
      }
    },
    {
      "cell_type": "code",
      "source": [
        "t=(\"Uno\",\"Dos\",\"Tres\") # Definicion Explicita\n",
        "type(t)"
      ],
      "metadata": {
        "colab": {
          "base_uri": "https://localhost:8080/"
        },
        "id": "fvp-e_Lftd25",
        "outputId": "9ecf055f-53f9-4873-caf8-76f5abf252d2"
      },
      "execution_count": null,
      "outputs": [
        {
          "output_type": "execute_result",
          "data": {
            "text/plain": [
              "tuple"
            ]
          },
          "metadata": {},
          "execution_count": 2
        }
      ]
    },
    {
      "cell_type": "code",
      "source": [
        "t[2]\n"
      ],
      "metadata": {
        "colab": {
          "base_uri": "https://localhost:8080/",
          "height": 35
        },
        "id": "t5MbSH5Ht5NF",
        "outputId": "7b5cfd4b-45b4-4cf5-b72a-813f08d51c6d"
      },
      "execution_count": null,
      "outputs": [
        {
          "output_type": "execute_result",
          "data": {
            "text/plain": [
              "'Tres'"
            ],
            "application/vnd.google.colaboratory.intrinsic+json": {
              "type": "string"
            }
          },
          "metadata": {},
          "execution_count": 3
        }
      ]
    },
    {
      "cell_type": "code",
      "source": [
        "t[:2]  # Acepta Slicings"
      ],
      "metadata": {
        "colab": {
          "base_uri": "https://localhost:8080/"
        },
        "id": "Uy3aLdeXuRHz",
        "outputId": "939bfd15-1b2f-48e5-e59d-123aec4a46fc"
      },
      "execution_count": null,
      "outputs": [
        {
          "output_type": "execute_result",
          "data": {
            "text/plain": [
              "('Uno', 'Dos')"
            ]
          },
          "metadata": {},
          "execution_count": 4
        }
      ]
    },
    {
      "cell_type": "code",
      "source": [
        "# Armando tuplas en base a variables\n",
        "a=5\n",
        "b=7\n",
        "c=2\n",
        "datos=b,a,c\n",
        "datos"
      ],
      "metadata": {
        "colab": {
          "base_uri": "https://localhost:8080/"
        },
        "id": "xxrGNkd1ucmu",
        "outputId": "d2bcae8e-c522-4ba8-d9d8-8e4f2d3d8954"
      },
      "execution_count": null,
      "outputs": [
        {
          "output_type": "execute_result",
          "data": {
            "text/plain": [
              "(7, 5, 2)"
            ]
          },
          "metadata": {},
          "execution_count": 5
        }
      ]
    },
    {
      "cell_type": "code",
      "source": [
        "x,y,z=datos # ******\n",
        "print(x)\n",
        "print(y)\n",
        "print(z)"
      ],
      "metadata": {
        "colab": {
          "base_uri": "https://localhost:8080/"
        },
        "id": "-KqJdqgGulpU",
        "outputId": "1c5c2208-bdbf-459b-cee1-8669dd80d196"
      },
      "execution_count": null,
      "outputs": [
        {
          "output_type": "stream",
          "name": "stdout",
          "text": [
            "7\n",
            "5\n",
            "2\n"
          ]
        }
      ]
    },
    {
      "cell_type": "code",
      "source": [
        "# Casting\n",
        "print(datos)\n",
        "x=list(datos)\n",
        "print(x)"
      ],
      "metadata": {
        "colab": {
          "base_uri": "https://localhost:8080/"
        },
        "id": "eQ30unZHvL43",
        "outputId": "e6ead714-0534-468c-db9a-babd72e8df05"
      },
      "execution_count": null,
      "outputs": [
        {
          "output_type": "stream",
          "name": "stdout",
          "text": [
            "(7, 5, 2)\n",
            "[7, 5, 2]\n"
          ]
        }
      ]
    },
    {
      "cell_type": "markdown",
      "source": [
        "### Diccionarios\n",
        "Son estructuras que almacenan varios elementos en pares clave - valor (Asociados)"
      ],
      "metadata": {
        "id": "5WU2l83Vvh_m"
      }
    },
    {
      "cell_type": "code",
      "source": [
        "google={\n",
        "        \"fundadores\":(\"Larry Page\",\"Serguéi Brin\"),  # Tuple\n",
        "        \"year\":1998,                                 # int\n",
        "        \"dominio\": \"www.google.com\",                 # str\n",
        "        \"filiales\": {\"YouTube\",\"Fitbit\",\"YouTube TV\",\"AdMob\",\"Firebase\", \"Kaggle\"} # set\n",
        "        }\n",
        "type(google)"
      ],
      "metadata": {
        "colab": {
          "base_uri": "https://localhost:8080/"
        },
        "id": "zrlPjB2yvo8y",
        "outputId": "bd8767ea-4445-4393-b956-06ce26116864"
      },
      "execution_count": null,
      "outputs": [
        {
          "output_type": "execute_result",
          "data": {
            "text/plain": [
              "dict"
            ]
          },
          "metadata": {},
          "execution_count": 10
        }
      ]
    },
    {
      "cell_type": "code",
      "source": [
        "# Accediendo a sus elementos\n",
        "google[\"year\"]"
      ],
      "metadata": {
        "colab": {
          "base_uri": "https://localhost:8080/"
        },
        "id": "XXTnmnHnxl2v",
        "outputId": "3ae8f330-ec17-4d32-9b41-39faf301f497"
      },
      "execution_count": null,
      "outputs": [
        {
          "output_type": "execute_result",
          "data": {
            "text/plain": [
              "1998"
            ]
          },
          "metadata": {},
          "execution_count": 15
        }
      ]
    },
    {
      "cell_type": "code",
      "source": [
        "# Aumentar elementos\n",
        "google[\"storage\"]=\"GS\"\n",
        "google"
      ],
      "metadata": {
        "colab": {
          "base_uri": "https://localhost:8080/"
        },
        "id": "s4t2ZlJZwq7i",
        "outputId": "37bdb2c4-aa64-401d-aef3-072a20c35da0"
      },
      "execution_count": null,
      "outputs": [
        {
          "output_type": "execute_result",
          "data": {
            "text/plain": [
              "{'dominio': 'www.google.com',\n",
              " 'filiales': {'AdMob',\n",
              "  'Firebase',\n",
              "  'Fitbit',\n",
              "  'Kaggle',\n",
              "  'YouTube',\n",
              "  'YouTube TV'},\n",
              " 'fundadores': ('Larry Page', 'Serguéi Brin'),\n",
              " 'storage': 'GS',\n",
              " 'year': 1998}"
            ]
          },
          "metadata": {},
          "execution_count": 11
        }
      ]
    },
    {
      "cell_type": "code",
      "source": [
        "import random\n",
        "resultados=dict()\n",
        "for i in range(5):\n",
        "  resultados[i]=random.randint(1,6)\n",
        "\n",
        "resultados"
      ],
      "metadata": {
        "colab": {
          "base_uri": "https://localhost:8080/"
        },
        "id": "34NaP115wZnH",
        "outputId": "f206e83a-d27b-4f71-f518-cf421fb1dd31"
      },
      "execution_count": null,
      "outputs": [
        {
          "output_type": "execute_result",
          "data": {
            "text/plain": [
              "{0: 5, 1: 3, 2: 1, 3: 3, 4: 1}"
            ]
          },
          "metadata": {},
          "execution_count": 14
        }
      ]
    },
    {
      "cell_type": "code",
      "source": [
        "# Eliminando elementos\n",
        "google.pop(\"filiales\")"
      ],
      "metadata": {
        "colab": {
          "base_uri": "https://localhost:8080/"
        },
        "id": "8hHGZNw8xyXf",
        "outputId": "be5cba3c-6b66-4ede-d603-39f72947dde4"
      },
      "execution_count": null,
      "outputs": [
        {
          "output_type": "execute_result",
          "data": {
            "text/plain": [
              "{'AdMob', 'Firebase', 'Fitbit', 'Kaggle', 'YouTube', 'YouTube TV'}"
            ]
          },
          "metadata": {},
          "execution_count": 16
        }
      ]
    },
    {
      "cell_type": "code",
      "source": [
        "google"
      ],
      "metadata": {
        "colab": {
          "base_uri": "https://localhost:8080/"
        },
        "id": "VowcVk7vx-ml",
        "outputId": "57f74f19-93cc-4552-ec74-c3cdfb43bb2d"
      },
      "execution_count": null,
      "outputs": [
        {
          "output_type": "execute_result",
          "data": {
            "text/plain": [
              "{'dominio': 'www.google.com',\n",
              " 'fundadores': ('Larry Page', 'Serguéi Brin'),\n",
              " 'storage': 'GS',\n",
              " 'year': 1998}"
            ]
          },
          "metadata": {},
          "execution_count": 17
        }
      ]
    },
    {
      "cell_type": "code",
      "source": [
        "# dict from two lists\n",
        "key_list = ['name', 'age', 'address']\n",
        "value_list = ['Johnny', '27', 'New York']\n",
        "\n",
        "dict_from_list = dict(zip(key_list, value_list))\n",
        "print(dict_from_list)"
      ],
      "metadata": {
        "colab": {
          "base_uri": "https://localhost:8080/"
        },
        "id": "HXuUNJP4zP0T",
        "outputId": "0ff513d1-c3f3-4311-c6e5-9dfac294bcdb"
      },
      "execution_count": null,
      "outputs": [
        {
          "output_type": "stream",
          "name": "stdout",
          "text": [
            "{'name': 'Johnny', 'age': '27', 'address': 'New York'}\n"
          ]
        }
      ]
    },
    {
      "cell_type": "code",
      "source": [
        "dir(google)\n",
        "# Keys and Values lists from a dict"
      ],
      "metadata": {
        "id": "LWAweJAL03-w"
      },
      "execution_count": null,
      "outputs": []
    },
    {
      "cell_type": "code",
      "source": [
        "google.items()\n",
        "list(google.items())"
      ],
      "metadata": {
        "colab": {
          "base_uri": "https://localhost:8080/"
        },
        "id": "9fnXHwNy0Hdz",
        "outputId": "39213200-07b4-4455-c018-99a911ea911d"
      },
      "execution_count": null,
      "outputs": [
        {
          "output_type": "execute_result",
          "data": {
            "text/plain": [
              "[('fundadores', ('Larry Page', 'Serguéi Brin')),\n",
              " ('year', 1998),\n",
              " ('dominio', 'www.google.com'),\n",
              " ('storage', 'GS')]"
            ]
          },
          "metadata": {},
          "execution_count": 28
        }
      ]
    },
    {
      "cell_type": "code",
      "source": [
        "google.keys()\n",
        "list(google.keys())"
      ],
      "metadata": {
        "colab": {
          "base_uri": "https://localhost:8080/"
        },
        "id": "tBxbunqB0u0C",
        "outputId": "34b27326-0038-489f-f28f-7a1c5568b01f"
      },
      "execution_count": null,
      "outputs": [
        {
          "output_type": "execute_result",
          "data": {
            "text/plain": [
              "['fundadores', 'year', 'dominio', 'storage']"
            ]
          },
          "metadata": {},
          "execution_count": 30
        }
      ]
    },
    {
      "cell_type": "code",
      "source": [
        "list(google.values())"
      ],
      "metadata": {
        "colab": {
          "base_uri": "https://localhost:8080/"
        },
        "id": "ScPAiaS30_uM",
        "outputId": "9353b846-df97-4981-82af-2c98e782cd83"
      },
      "execution_count": null,
      "outputs": [
        {
          "output_type": "execute_result",
          "data": {
            "text/plain": [
              "[('Larry Page', 'Serguéi Brin'), 1998, 'www.google.com', 'GS']"
            ]
          },
          "metadata": {},
          "execution_count": 33
        }
      ]
    },
    {
      "cell_type": "code",
      "source": [
        "# Resolvamos el problema de los dados con dicionarios\n",
        "n=int(input(\"Ingrese el nro de lanzamientos: \"))\n",
        "#listaResultados={2:0,3:0,4:0,5:0,6:0,7:0,8:0,9:0,10:0,11:0,12:0}\n",
        "listaResultados=dict(zip(list(range(2,13)),[0]*11))\n",
        "for i in range(1, n+1):\n",
        "  d1=random.randint(1,6)\n",
        "  d2=random.randint(1,6)\n",
        "  result=d1+d2\n",
        "  listaResultados[result]=listaResultados[result]+1\n",
        "print(listaResultados)"
      ],
      "metadata": {
        "colab": {
          "base_uri": "https://localhost:8080/"
        },
        "id": "l-LtvD3UyE8U",
        "outputId": "f2d3b3f7-94d6-4bfe-95cd-34fa7e9d96a7"
      },
      "execution_count": null,
      "outputs": [
        {
          "output_type": "stream",
          "name": "stdout",
          "text": [
            "Ingrese el nro de lanzamientos: 500\n",
            "{2: 9, 3: 26, 4: 35, 5: 68, 6: 77, 7: 87, 8: 64, 9: 58, 10: 37, 11: 21, 12: 18}\n"
          ]
        }
      ]
    },
    {
      "cell_type": "code",
      "source": [
        "v,k=list(listaResultados.values()),list(listaResultados.keys())\n",
        "print(max(v))\n",
        "rf=k[v.index(max(v))]\n",
        "print(rf)"
      ],
      "metadata": {
        "colab": {
          "base_uri": "https://localhost:8080/"
        },
        "id": "Rj8H1Ab41uY3",
        "outputId": "c9fdb78a-9432-4c9e-d888-64ef62f61536"
      },
      "execution_count": null,
      "outputs": [
        {
          "output_type": "stream",
          "name": "stdout",
          "text": [
            "87\n",
            "7\n"
          ]
        }
      ]
    },
    {
      "cell_type": "code",
      "source": [
        "import seaborn as sb\n",
        "sb.barplot(k,v)"
      ],
      "metadata": {
        "colab": {
          "base_uri": "https://localhost:8080/",
          "height": 340
        },
        "id": "21WLZqeX3R4b",
        "outputId": "de87137a-06f1-4c00-e16f-57766f6342b4"
      },
      "execution_count": null,
      "outputs": [
        {
          "output_type": "stream",
          "name": "stderr",
          "text": [
            "/usr/local/lib/python3.7/dist-packages/seaborn/_decorators.py:43: FutureWarning: Pass the following variables as keyword args: x, y. From version 0.12, the only valid positional argument will be `data`, and passing other arguments without an explicit keyword will result in an error or misinterpretation.\n",
            "  FutureWarning\n"
          ]
        },
        {
          "output_type": "execute_result",
          "data": {
            "text/plain": [
              "<matplotlib.axes._subplots.AxesSubplot at 0x7f03d3513a50>"
            ]
          },
          "metadata": {},
          "execution_count": 46
        },
        {
          "output_type": "display_data",
          "data": {
            "text/plain": [
              "<Figure size 432x288 with 1 Axes>"
            ],
            "image/png": "[encoded data removed]"
          },
          "metadata": {
            "needs_background": "light"
          }
        }
      ]
    },
    {
      "cell_type": "markdown",
      "source": [
        "## Iterando Colecciones"
      ],
      "metadata": {
        "id": "WluymT9d4f_U"
      }
    },
    {
      "cell_type": "code",
      "source": [
        "for k,v in google.items():\n",
        "  print(k,\"---->\",v)"
      ],
      "metadata": {
        "colab": {
          "base_uri": "https://localhost:8080/"
        },
        "id": "f0LTcJkH4lO7",
        "outputId": "0f8c8a2e-3a6b-41dc-c9ea-1f0278b90aa4"
      },
      "execution_count": null,
      "outputs": [
        {
          "output_type": "stream",
          "name": "stdout",
          "text": [
            "fundadores ----> ('Larry Page', 'Serguéi Brin')\n",
            "year ----> 1998\n",
            "dominio ----> www.google.com\n",
            "storage ----> GS\n"
          ]
        }
      ]
    },
    {
      "cell_type": "code",
      "source": [
        "for e in [\"A\",\"E\",\"A\",\"D\",\"C\",\"W\",\"X\"]: # Tuple, set,\n",
        "  print(e)"
      ],
      "metadata": {
        "colab": {
          "base_uri": "https://localhost:8080/"
        },
        "id": "HY4f4N5N5Kow",
        "outputId": "3fa5a424-82a1-4d47-b75b-15e3ec676a54"
      },
      "execution_count": null,
      "outputs": [
        {
          "output_type": "stream",
          "name": "stdout",
          "text": [
            "A\n",
            "E\n",
            "A\n",
            "D\n",
            "C\n",
            "W\n",
            "X\n"
          ]
        }
      ]
    },
    {
      "cell_type": "code",
      "source": [
        "for i,e in enumerate([\"A\",\"E\",\"A\",\"D\",\"C\",\"W\",\"X\"]):\n",
        "  print(i,e)"
      ],
      "metadata": {
        "colab": {
          "base_uri": "https://localhost:8080/"
        },
        "id": "6pCQyvQp5bVZ",
        "outputId": "77aabec1-a9bf-47bb-da0d-3620396e7c57"
      },
      "execution_count": null,
      "outputs": [
        {
          "output_type": "stream",
          "name": "stdout",
          "text": [
            "0 A\n",
            "1 E\n",
            "2 A\n",
            "3 D\n",
            "4 C\n",
            "5 W\n",
            "6 X\n"
          ]
        }
      ]
    }
  ]
}